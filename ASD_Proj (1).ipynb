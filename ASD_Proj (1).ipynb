{
 "cells": [
  {
   "cell_type": "markdown",
   "id": "48a15747",
   "metadata": {},
   "source": [
    "# DETECTION OF ATRIAL SEPTUM DEFECT USING SVM AND MLP\n"
   ]
  },
  {
   "cell_type": "code",
   "execution_count": 1,
   "id": "fa7d3ddd",
   "metadata": {},
   "outputs": [
    {
     "name": "stdout",
     "output_type": "stream",
     "text": [
      "Requirement already satisfied: keras in d:\\anaconda\\lib\\site-packages (2.9.0)\n",
      "Note: you may need to restart the kernel to use updated packages.\n"
     ]
    }
   ],
   "source": [
    "pip install keras"
   ]
  },
  {
   "cell_type": "code",
   "execution_count": 2,
   "id": "56ed1c1b",
   "metadata": {},
   "outputs": [
    {
     "name": "stdout",
     "output_type": "stream",
     "text": [
      "^C\n",
      "Note: you may need to restart the kernel to use updated packages.\n"
     ]
    }
   ],
   "source": [
    "pip install tensorflow"
   ]
  },
  {
   "cell_type": "code",
   "execution_count": 54,
   "id": "3d9e36c7",
   "metadata": {},
   "outputs": [],
   "source": [
    "import pandas as pd\n",
    "import numpy as np\n",
    "from sklearn.svm import SVC\n",
    "from sklearn.model_selection import train_test_split\n",
    "from sklearn.neural_network import MLPClassifier\n",
    "from sklearn import preprocessing\n",
    "from sklearn.metrics import accuracy_score,classification_report\n",
    "from sklearn.metrics import confusion_matrix\n",
    "import matplotlib.pyplot as plt\n",
    "from sklearn import tree\n",
    "import seaborn as sns"
   ]
  },
  {
   "cell_type": "code",
   "execution_count": 40,
   "id": "cc20e2b5",
   "metadata": {},
   "outputs": [
    {
     "data": {
      "text/html": [
       "<div>\n",
       "<style scoped>\n",
       "    .dataframe tbody tr th:only-of-type {\n",
       "        vertical-align: middle;\n",
       "    }\n",
       "\n",
       "    .dataframe tbody tr th {\n",
       "        vertical-align: top;\n",
       "    }\n",
       "\n",
       "    .dataframe thead th {\n",
       "        text-align: right;\n",
       "    }\n",
       "</style>\n",
       "<table border=\"1\" class=\"dataframe\">\n",
       "  <thead>\n",
       "    <tr style=\"text-align: right;\">\n",
       "      <th></th>\n",
       "      <th>Age</th>\n",
       "      <th>Sex</th>\n",
       "      <th>Hole_Position</th>\n",
       "      <th>Defect</th>\n",
       "      <th>Hole_Size</th>\n",
       "      <th>Hole_type</th>\n",
       "      <th>Curable_Method</th>\n",
       "      <th>Symptoms_and_Effect</th>\n",
       "    </tr>\n",
       "  </thead>\n",
       "  <tbody>\n",
       "    <tr>\n",
       "      <th>0</th>\n",
       "      <td>25</td>\n",
       "      <td>male</td>\n",
       "      <td>9.26</td>\n",
       "      <td>Ostium Secundum</td>\n",
       "      <td>2.47</td>\n",
       "      <td>LARGE ASD</td>\n",
       "      <td>Open Heart Surgery</td>\n",
       "      <td>Stroke,Cardiac Failure,Heart Murmurs</td>\n",
       "    </tr>\n",
       "    <tr>\n",
       "      <th>1</th>\n",
       "      <td>34</td>\n",
       "      <td>male</td>\n",
       "      <td>11.43</td>\n",
       "      <td>Venous Superior</td>\n",
       "      <td>1.59</td>\n",
       "      <td>LARGE ASD</td>\n",
       "      <td>Open Heart Surgery</td>\n",
       "      <td>Irregular Heartbeat,Shortness of breadth</td>\n",
       "    </tr>\n",
       "    <tr>\n",
       "      <th>2</th>\n",
       "      <td>17</td>\n",
       "      <td>male</td>\n",
       "      <td>8.98</td>\n",
       "      <td>Ostium Secundum</td>\n",
       "      <td>1.19</td>\n",
       "      <td>MEDIUM ASD</td>\n",
       "      <td>Catheter</td>\n",
       "      <td>Irregular Heartbeat,Shortness of breadth,faint...</td>\n",
       "    </tr>\n",
       "    <tr>\n",
       "      <th>3</th>\n",
       "      <td>44</td>\n",
       "      <td>female</td>\n",
       "      <td>7.08</td>\n",
       "      <td>Ostium Primum</td>\n",
       "      <td>1.48</td>\n",
       "      <td>LARGE ASD</td>\n",
       "      <td>Open Heart Surgery</td>\n",
       "      <td>Down's Syndrome,Leukemia,Immune System Disorders</td>\n",
       "    </tr>\n",
       "    <tr>\n",
       "      <th>4</th>\n",
       "      <td>46</td>\n",
       "      <td>male</td>\n",
       "      <td>8.47</td>\n",
       "      <td>Ostium Secundum</td>\n",
       "      <td>0.50</td>\n",
       "      <td>SMALL ASD</td>\n",
       "      <td>Catheter</td>\n",
       "      <td>No symptoms</td>\n",
       "    </tr>\n",
       "  </tbody>\n",
       "</table>\n",
       "</div>"
      ],
      "text/plain": [
       "   Age     Sex  Hole_Position           Defect  Hole_Size   Hole_type  \\\n",
       "0   25    male           9.26  Ostium Secundum       2.47   LARGE ASD   \n",
       "1   34    male          11.43  Venous Superior       1.59   LARGE ASD   \n",
       "2   17    male           8.98  Ostium Secundum       1.19  MEDIUM ASD   \n",
       "3   44  female           7.08    Ostium Primum       1.48   LARGE ASD   \n",
       "4   46    male           8.47  Ostium Secundum       0.50   SMALL ASD   \n",
       "\n",
       "       Curable_Method                                Symptoms_and_Effect  \n",
       "0  Open Heart Surgery               Stroke,Cardiac Failure,Heart Murmurs  \n",
       "1  Open Heart Surgery           Irregular Heartbeat,Shortness of breadth  \n",
       "2            Catheter  Irregular Heartbeat,Shortness of breadth,faint...  \n",
       "3  Open Heart Surgery   Down's Syndrome,Leukemia,Immune System Disorders  \n",
       "4            Catheter                                        No symptoms  "
      ]
     },
     "execution_count": 40,
     "metadata": {},
     "output_type": "execute_result"
    }
   ],
   "source": [
    "#reading the dataset\n",
    "df = pd.read_csv(\"heartasd.csv\")\n",
    "df.head()"
   ]
  },
  {
   "cell_type": "code",
   "execution_count": null,
   "id": "cb380495",
   "metadata": {},
   "outputs": [],
   "source": []
  },
  {
   "cell_type": "code",
   "execution_count": 41,
   "id": "250bb2b2",
   "metadata": {},
   "outputs": [
    {
     "data": {
      "text/plain": [
       "(5862, 8)"
      ]
     },
     "execution_count": 41,
     "metadata": {},
     "output_type": "execute_result"
    }
   ],
   "source": [
    "df.shape"
   ]
  },
  {
   "cell_type": "code",
   "execution_count": 42,
   "id": "adc162a3",
   "metadata": {},
   "outputs": [
    {
     "data": {
      "text/html": [
       "<div>\n",
       "<style scoped>\n",
       "    .dataframe tbody tr th:only-of-type {\n",
       "        vertical-align: middle;\n",
       "    }\n",
       "\n",
       "    .dataframe tbody tr th {\n",
       "        vertical-align: top;\n",
       "    }\n",
       "\n",
       "    .dataframe thead th {\n",
       "        text-align: right;\n",
       "    }\n",
       "</style>\n",
       "<table border=\"1\" class=\"dataframe\">\n",
       "  <thead>\n",
       "    <tr style=\"text-align: right;\">\n",
       "      <th></th>\n",
       "      <th>Age</th>\n",
       "      <th>Hole_Position</th>\n",
       "      <th>Hole_Size</th>\n",
       "    </tr>\n",
       "  </thead>\n",
       "  <tbody>\n",
       "    <tr>\n",
       "      <th>count</th>\n",
       "      <td>5862.000000</td>\n",
       "      <td>5862.000000</td>\n",
       "      <td>5862.000000</td>\n",
       "    </tr>\n",
       "    <tr>\n",
       "      <th>mean</th>\n",
       "      <td>33.423746</td>\n",
       "      <td>8.998228</td>\n",
       "      <td>1.382712</td>\n",
       "    </tr>\n",
       "    <tr>\n",
       "      <th>std</th>\n",
       "      <td>9.500774</td>\n",
       "      <td>1.723090</td>\n",
       "      <td>0.642441</td>\n",
       "    </tr>\n",
       "    <tr>\n",
       "      <th>min</th>\n",
       "      <td>17.000000</td>\n",
       "      <td>6.000000</td>\n",
       "      <td>0.300000</td>\n",
       "    </tr>\n",
       "    <tr>\n",
       "      <th>25%</th>\n",
       "      <td>25.000000</td>\n",
       "      <td>7.510000</td>\n",
       "      <td>0.810000</td>\n",
       "    </tr>\n",
       "    <tr>\n",
       "      <th>50%</th>\n",
       "      <td>33.000000</td>\n",
       "      <td>9.040000</td>\n",
       "      <td>1.360000</td>\n",
       "    </tr>\n",
       "    <tr>\n",
       "      <th>75%</th>\n",
       "      <td>42.000000</td>\n",
       "      <td>10.440000</td>\n",
       "      <td>1.950000</td>\n",
       "    </tr>\n",
       "    <tr>\n",
       "      <th>max</th>\n",
       "      <td>50.000000</td>\n",
       "      <td>12.000000</td>\n",
       "      <td>2.500000</td>\n",
       "    </tr>\n",
       "  </tbody>\n",
       "</table>\n",
       "</div>"
      ],
      "text/plain": [
       "               Age  Hole_Position    Hole_Size\n",
       "count  5862.000000    5862.000000  5862.000000\n",
       "mean     33.423746       8.998228     1.382712\n",
       "std       9.500774       1.723090     0.642441\n",
       "min      17.000000       6.000000     0.300000\n",
       "25%      25.000000       7.510000     0.810000\n",
       "50%      33.000000       9.040000     1.360000\n",
       "75%      42.000000      10.440000     1.950000\n",
       "max      50.000000      12.000000     2.500000"
      ]
     },
     "execution_count": 42,
     "metadata": {},
     "output_type": "execute_result"
    }
   ],
   "source": [
    "df.describe()"
   ]
  },
  {
   "cell_type": "code",
   "execution_count": 43,
   "id": "434c09d5",
   "metadata": {},
   "outputs": [
    {
     "name": "stdout",
     "output_type": "stream",
     "text": [
      "<class 'pandas.core.frame.DataFrame'>\n",
      "RangeIndex: 5862 entries, 0 to 5861\n",
      "Data columns (total 8 columns):\n",
      " #   Column               Non-Null Count  Dtype  \n",
      "---  ------               --------------  -----  \n",
      " 0   Age                  5862 non-null   int64  \n",
      " 1   Sex                  5862 non-null   object \n",
      " 2   Hole_Position        5862 non-null   float64\n",
      " 3   Defect               5862 non-null   object \n",
      " 4   Hole_Size            5862 non-null   float64\n",
      " 5   Hole_type            5862 non-null   object \n",
      " 6   Curable_Method       5862 non-null   object \n",
      " 7   Symptoms_and_Effect  5862 non-null   object \n",
      "dtypes: float64(2), int64(1), object(5)\n",
      "memory usage: 366.5+ KB\n"
     ]
    }
   ],
   "source": [
    "df.info()"
   ]
  },
  {
   "cell_type": "code",
   "execution_count": 44,
   "id": "54f03a94",
   "metadata": {},
   "outputs": [
    {
     "name": "stderr",
     "output_type": "stream",
     "text": [
      "D:\\anaconda\\lib\\site-packages\\seaborn\\_decorators.py:36: FutureWarning: Pass the following variable as a keyword arg: x. From version 0.12, the only valid positional argument will be `data`, and passing other arguments without an explicit keyword will result in an error or misinterpretation.\n",
      "  warnings.warn(\n"
     ]
    },
    {
     "name": "stdout",
     "output_type": "stream",
     "text": [
      "44    208\n",
      "29    205\n",
      "25    196\n",
      "28    196\n",
      "38    191\n",
      "32    188\n",
      "18    187\n",
      "26    187\n",
      "31    187\n",
      "43    186\n",
      "46    186\n",
      "30    186\n",
      "48    184\n",
      "37    181\n",
      "33    181\n",
      "20    179\n",
      "27    179\n",
      "45    178\n",
      "41    176\n",
      "24    176\n",
      "21    175\n",
      "49    172\n",
      "19    171\n",
      "40    171\n",
      "36    170\n",
      "22    169\n",
      "23    168\n",
      "34    165\n",
      "47    161\n",
      "42    156\n",
      "39    154\n",
      "35    135\n",
      "17     79\n",
      "50     79\n",
      "Name: Age, dtype: int64\n"
     ]
    },
    {
     "data": {
      "image/png": "[encoded data removed]",
      "text/plain": [
       "<Figure size 1080x576 with 1 Axes>"
      ]
     },
     "metadata": {},
     "output_type": "display_data"
    }
   ],
   "source": [
    "#analysing the age of the patients\n",
    "graph2 = df[\"Age\"]\n",
    "sns.set(rc = {'figure.figsize':(15,8)})\n",
    "sns.countplot(graph2)\n",
    "#xlabel = 'age'\n",
    "#ylabel = 'count_of_defect'\n",
    "\n",
    "target_temp = df.Age.value_counts()\n",
    "\n",
    "print(target_temp)\n"
   ]
  },
  {
   "cell_type": "code",
   "execution_count": 45,
   "id": "a9ff7c2b",
   "metadata": {},
   "outputs": [
    {
     "name": "stderr",
     "output_type": "stream",
     "text": [
      "D:\\anaconda\\lib\\site-packages\\seaborn\\_decorators.py:36: FutureWarning: Pass the following variable as a keyword arg: x. From version 0.12, the only valid positional argument will be `data`, and passing other arguments without an explicit keyword will result in an error or misinterpretation.\n",
      "  warnings.warn(\n"
     ]
    },
    {
     "name": "stdout",
     "output_type": "stream",
     "text": [
      "male      4104\n",
      "female    1758\n",
      "Name: Sex, dtype: int64\n"
     ]
    },
    {
     "data": {
      "image/png": "[encoded data removed]",
      "text/plain": [
       "<Figure size 288x288 with 1 Axes>"
      ]
     },
     "metadata": {},
     "output_type": "display_data"
    }
   ],
   "source": [
    "#analysing the sex of the patients\n",
    "graphs = df[\"Sex\"]\n",
    "sns.set(rc = {'figure.figsize':(4,4)})\n",
    "sns.countplot(graphs)\n",
    "xlabel = 'sex'\n",
    "ylabel = 'count'\n",
    "target_temp1 = df.Sex.value_counts()\n",
    "\n",
    "print(target_temp1)"
   ]
  },
  {
   "cell_type": "code",
   "execution_count": 46,
   "id": "e5dbcb2d",
   "metadata": {},
   "outputs": [
    {
     "name": "stdout",
     "output_type": "stream",
     "text": [
      "Ostium Secundum    2998\n",
      "Ostium Primum      1457\n",
      "Venous Superior    1407\n",
      "Name: Defect, dtype: int64\n"
     ]
    },
    {
     "name": "stderr",
     "output_type": "stream",
     "text": [
      "D:\\anaconda\\lib\\site-packages\\seaborn\\_decorators.py:36: FutureWarning: Pass the following variable as a keyword arg: x. From version 0.12, the only valid positional argument will be `data`, and passing other arguments without an explicit keyword will result in an error or misinterpretation.\n",
      "  warnings.warn(\n"
     ]
    },
    {
     "data": {
      "image/png": "[encoded data removed]",
      "text/plain": [
       "<Figure size 432x288 with 1 Axes>"
      ]
     },
     "metadata": {},
     "output_type": "display_data"
    }
   ],
   "source": [
    "#analysing the atrial defect of the patients\n",
    "graph = df[\"Defect\"]\n",
    "sns.set(rc = {'figure.figsize':(6,4)})\n",
    "sns.countplot(graph)\n",
    "xlabel = 'defect'\n",
    "ylabel = 'count_of_defect'\n",
    "target_temp2 = df.Defect.value_counts()\n",
    "\n",
    "print(target_temp2)"
   ]
  },
  {
   "cell_type": "code",
   "execution_count": 47,
   "id": "d0919c9f",
   "metadata": {},
   "outputs": [
    {
     "name": "stdout",
     "output_type": "stream",
     "text": [
      "LARGE ASD     3358\n",
      "MEDIUM ASD    1675\n",
      "SMALL ASD      829\n",
      "Name: Hole_type, dtype: int64\n"
     ]
    },
    {
     "name": "stderr",
     "output_type": "stream",
     "text": [
      "D:\\anaconda\\lib\\site-packages\\seaborn\\_decorators.py:36: FutureWarning: Pass the following variable as a keyword arg: x. From version 0.12, the only valid positional argument will be `data`, and passing other arguments without an explicit keyword will result in an error or misinterpretation.\n",
      "  warnings.warn(\n"
     ]
    },
    {
     "data": {
      "image/png": "[encoded data removed]",
      "text/plain": [
       "<Figure size 288x288 with 1 Axes>"
      ]
     },
     "metadata": {},
     "output_type": "display_data"
    }
   ],
   "source": [
    "#analysing the hole type of the patient\n",
    "graphsq = df[\"Hole_type\"]\n",
    "sns.set(rc = {'figure.figsize':(4,4)})\n",
    "sns.countplot(graphsq)\n",
    "xlabel = 'holetype'\n",
    "ylabel = 'count'\n",
    "target_temp1q = df.Hole_type.value_counts()\n",
    "\n",
    "print(target_temp1q)"
   ]
  },
  {
   "cell_type": "code",
   "execution_count": 48,
   "id": "e8a6ba7a",
   "metadata": {},
   "outputs": [
    {
     "name": "stdout",
     "output_type": "stream",
     "text": [
      "Open Heart Surgery    4597\n",
      "Catheter              1265\n",
      "Name: Curable_Method, dtype: int64\n"
     ]
    },
    {
     "name": "stderr",
     "output_type": "stream",
     "text": [
      "D:\\anaconda\\lib\\site-packages\\seaborn\\_decorators.py:36: FutureWarning: Pass the following variable as a keyword arg: x. From version 0.12, the only valid positional argument will be `data`, and passing other arguments without an explicit keyword will result in an error or misinterpretation.\n",
      "  warnings.warn(\n"
     ]
    },
    {
     "data": {
      "image/png": "[encoded data removed]",
      "text/plain": [
       "<Figure size 288x288 with 1 Axes>"
      ]
     },
     "metadata": {},
     "output_type": "display_data"
    }
   ],
   "source": [
    "#analysing the curable methods of the patient\n",
    "graphsw = df[\"Curable_Method\"]\n",
    "sns.set(rc = {'figure.figsize':(4,4)})\n",
    "sns.countplot(graphsw)\n",
    "xlabel = 'method'\n",
    "ylabel = 'count'\n",
    "target_temp1w = df.Curable_Method.value_counts()\n",
    "\n",
    "print(target_temp1w)"
   ]
  },
  {
   "cell_type": "code",
   "execution_count": 49,
   "id": "83625887",
   "metadata": {},
   "outputs": [
    {
     "data": {
      "text/html": [
       "<div>\n",
       "<style scoped>\n",
       "    .dataframe tbody tr th:only-of-type {\n",
       "        vertical-align: middle;\n",
       "    }\n",
       "\n",
       "    .dataframe tbody tr th {\n",
       "        vertical-align: top;\n",
       "    }\n",
       "\n",
       "    .dataframe thead th {\n",
       "        text-align: right;\n",
       "    }\n",
       "</style>\n",
       "<table border=\"1\" class=\"dataframe\">\n",
       "  <thead>\n",
       "    <tr style=\"text-align: right;\">\n",
       "      <th></th>\n",
       "      <th>Age</th>\n",
       "      <th>Sex</th>\n",
       "      <th>Hole_Position</th>\n",
       "      <th>Defect</th>\n",
       "      <th>Hole_Size</th>\n",
       "      <th>Hole_type</th>\n",
       "      <th>Curable_Method</th>\n",
       "      <th>Symptoms_and_Effect</th>\n",
       "    </tr>\n",
       "  </thead>\n",
       "  <tbody>\n",
       "    <tr>\n",
       "      <th>0</th>\n",
       "      <td>8</td>\n",
       "      <td>1</td>\n",
       "      <td>326</td>\n",
       "      <td>1</td>\n",
       "      <td>217</td>\n",
       "      <td>0</td>\n",
       "      <td>1</td>\n",
       "      <td>4</td>\n",
       "    </tr>\n",
       "    <tr>\n",
       "      <th>1</th>\n",
       "      <td>17</td>\n",
       "      <td>1</td>\n",
       "      <td>543</td>\n",
       "      <td>2</td>\n",
       "      <td>129</td>\n",
       "      <td>0</td>\n",
       "      <td>1</td>\n",
       "      <td>1</td>\n",
       "    </tr>\n",
       "    <tr>\n",
       "      <th>2</th>\n",
       "      <td>0</td>\n",
       "      <td>1</td>\n",
       "      <td>298</td>\n",
       "      <td>1</td>\n",
       "      <td>89</td>\n",
       "      <td>1</td>\n",
       "      <td>0</td>\n",
       "      <td>2</td>\n",
       "    </tr>\n",
       "    <tr>\n",
       "      <th>3</th>\n",
       "      <td>27</td>\n",
       "      <td>0</td>\n",
       "      <td>108</td>\n",
       "      <td>0</td>\n",
       "      <td>118</td>\n",
       "      <td>0</td>\n",
       "      <td>1</td>\n",
       "      <td>0</td>\n",
       "    </tr>\n",
       "    <tr>\n",
       "      <th>4</th>\n",
       "      <td>29</td>\n",
       "      <td>1</td>\n",
       "      <td>247</td>\n",
       "      <td>1</td>\n",
       "      <td>20</td>\n",
       "      <td>2</td>\n",
       "      <td>0</td>\n",
       "      <td>3</td>\n",
       "    </tr>\n",
       "  </tbody>\n",
       "</table>\n",
       "</div>"
      ],
      "text/plain": [
       "   Age  Sex  Hole_Position  Defect  Hole_Size  Hole_type  Curable_Method  \\\n",
       "0    8    1            326       1        217          0               1   \n",
       "1   17    1            543       2        129          0               1   \n",
       "2    0    1            298       1         89          1               0   \n",
       "3   27    0            108       0        118          0               1   \n",
       "4   29    1            247       1         20          2               0   \n",
       "\n",
       "   Symptoms_and_Effect  \n",
       "0                    4  \n",
       "1                    1  \n",
       "2                    2  \n",
       "3                    0  \n",
       "4                    3  "
      ]
     },
     "execution_count": 49,
     "metadata": {},
     "output_type": "execute_result"
    }
   ],
   "source": [
    "#preprocessing the dataset\n",
    "string_to_int = preprocessing.LabelEncoder()\n",
    "dfn=df.apply(string_to_int.fit_transform)\n",
    "dfn.head()"
   ]
  },
  {
   "cell_type": "code",
   "execution_count": 50,
   "id": "53a5ba61",
   "metadata": {},
   "outputs": [
    {
     "data": {
      "text/html": [
       "<div>\n",
       "<style scoped>\n",
       "    .dataframe tbody tr th:only-of-type {\n",
       "        vertical-align: middle;\n",
       "    }\n",
       "\n",
       "    .dataframe tbody tr th {\n",
       "        vertical-align: top;\n",
       "    }\n",
       "\n",
       "    .dataframe thead th {\n",
       "        text-align: right;\n",
       "    }\n",
       "</style>\n",
       "<table border=\"1\" class=\"dataframe\">\n",
       "  <thead>\n",
       "    <tr style=\"text-align: right;\">\n",
       "      <th></th>\n",
       "      <th>Age</th>\n",
       "      <th>Sex</th>\n",
       "      <th>Hole_Position</th>\n",
       "    </tr>\n",
       "  </thead>\n",
       "  <tbody>\n",
       "    <tr>\n",
       "      <th>0</th>\n",
       "      <td>8</td>\n",
       "      <td>1</td>\n",
       "      <td>326</td>\n",
       "    </tr>\n",
       "    <tr>\n",
       "      <th>1</th>\n",
       "      <td>17</td>\n",
       "      <td>1</td>\n",
       "      <td>543</td>\n",
       "    </tr>\n",
       "    <tr>\n",
       "      <th>2</th>\n",
       "      <td>0</td>\n",
       "      <td>1</td>\n",
       "      <td>298</td>\n",
       "    </tr>\n",
       "    <tr>\n",
       "      <th>3</th>\n",
       "      <td>27</td>\n",
       "      <td>0</td>\n",
       "      <td>108</td>\n",
       "    </tr>\n",
       "    <tr>\n",
       "      <th>4</th>\n",
       "      <td>29</td>\n",
       "      <td>1</td>\n",
       "      <td>247</td>\n",
       "    </tr>\n",
       "  </tbody>\n",
       "</table>\n",
       "</div>"
      ],
      "text/plain": [
       "   Age  Sex  Hole_Position\n",
       "0    8    1            326\n",
       "1   17    1            543\n",
       "2    0    1            298\n",
       "3   27    0            108\n",
       "4   29    1            247"
      ]
     },
     "execution_count": 50,
     "metadata": {},
     "output_type": "execute_result"
    }
   ],
   "source": [
    "#classification of septal defect using its position\n",
    "data=dfn.iloc[:,0:3]\n",
    "target = dfn.iloc[:,3]\n",
    "data.head()\n",
    "#target.head()"
   ]
  },
  {
   "cell_type": "code",
   "execution_count": 51,
   "id": "6fbe982d",
   "metadata": {},
   "outputs": [],
   "source": [
    "#training and testing of data\n",
    "x_train,x_test,y_train,y_test=train_test_split(data,target,test_size=0.2)\n"
   ]
  },
  {
   "cell_type": "code",
   "execution_count": 55,
   "id": "51a5a43c",
   "metadata": {},
   "outputs": [
    {
     "name": "stdout",
     "output_type": "stream",
     "text": [
      "Accuracy 98.72122762148338\n",
      "[[294   4   0]\n",
      " [  0 566  11]\n",
      " [  0   0 298]]\n",
      "              precision    recall  f1-score   support\n",
      "\n",
      "           0       1.00      0.99      0.99       298\n",
      "           1       0.99      0.98      0.99       577\n",
      "           2       0.96      1.00      0.98       298\n",
      "\n",
      "    accuracy                           0.99      1173\n",
      "   macro avg       0.99      0.99      0.99      1173\n",
      "weighted avg       0.99      0.99      0.99      1173\n",
      "\n"
     ]
    },
    {
     "name": "stderr",
     "output_type": "stream",
     "text": [
      "D:\\anaconda\\lib\\site-packages\\sklearn\\svm\\_base.py:255: ConvergenceWarning: Solver terminated early (max_iter=50).  Consider pre-processing your data with StandardScaler or MinMaxScaler.\n",
      "  warnings.warn('Solver terminated early (max_iter=%i).'\n"
     ]
    }
   ],
   "source": [
    "#classification study of defect type using SVM\n",
    "svmnew = SVC(max_iter=50)\n",
    "svmnew.fit(x_train,y_train)\n",
    "pred = svmnew.predict(x_test)\n",
    "print(\"Accuracy\",accuracy_score(y_test,pred)*100)\n",
    "print(confusion_matrix(y_test,pred))\n",
    "print(classification_report(y_test,pred))"
   ]
  },
  {
   "cell_type": "code",
   "execution_count": 56,
   "id": "e3629092",
   "metadata": {},
   "outputs": [
    {
     "name": "stdout",
     "output_type": "stream",
     "text": [
      "Accuracy 68.11594202898551\n",
      "[[201  96   1]\n",
      " [ 16 461 100]\n",
      " [  0 161 137]]\n",
      "              precision    recall  f1-score   support\n",
      "\n",
      "           0       0.93      0.67      0.78       298\n",
      "           1       0.64      0.80      0.71       577\n",
      "           2       0.58      0.46      0.51       298\n",
      "\n",
      "    accuracy                           0.68      1173\n",
      "   macro avg       0.71      0.64      0.67      1173\n",
      "weighted avg       0.70      0.68      0.68      1173\n",
      "\n"
     ]
    },
    {
     "name": "stderr",
     "output_type": "stream",
     "text": [
      "D:\\anaconda\\lib\\site-packages\\sklearn\\neural_network\\_multilayer_perceptron.py:614: ConvergenceWarning: Stochastic Optimizer: Maximum iterations (5) reached and the optimization hasn't converged yet.\n",
      "  warnings.warn(\n"
     ]
    }
   ],
   "source": [
    "#classification study of defect type using MLP Classifier\n",
    "mlpnew = MLPClassifier(max_iter=5)\n",
    "mlpnew.fit(x_train,y_train)\n",
    "pred = mlpnew.predict(x_test)\n",
    "print(\"Accuracy\",accuracy_score(y_test,pred)*100)\n",
    "print(confusion_matrix(y_test,pred));\n",
    "print(classification_report(y_test,pred))"
   ]
  },
  {
   "cell_type": "code",
   "execution_count": 57,
   "id": "ab7047d9",
   "metadata": {},
   "outputs": [
    {
     "data": {
      "text/html": [
       "<div>\n",
       "<style scoped>\n",
       "    .dataframe tbody tr th:only-of-type {\n",
       "        vertical-align: middle;\n",
       "    }\n",
       "\n",
       "    .dataframe tbody tr th {\n",
       "        vertical-align: top;\n",
       "    }\n",
       "\n",
       "    .dataframe thead th {\n",
       "        text-align: right;\n",
       "    }\n",
       "</style>\n",
       "<table border=\"1\" class=\"dataframe\">\n",
       "  <thead>\n",
       "    <tr style=\"text-align: right;\">\n",
       "      <th></th>\n",
       "      <th>Defect</th>\n",
       "      <th>Hole_Size</th>\n",
       "    </tr>\n",
       "  </thead>\n",
       "  <tbody>\n",
       "    <tr>\n",
       "      <th>0</th>\n",
       "      <td>1</td>\n",
       "      <td>217</td>\n",
       "    </tr>\n",
       "    <tr>\n",
       "      <th>1</th>\n",
       "      <td>2</td>\n",
       "      <td>129</td>\n",
       "    </tr>\n",
       "    <tr>\n",
       "      <th>2</th>\n",
       "      <td>1</td>\n",
       "      <td>89</td>\n",
       "    </tr>\n",
       "    <tr>\n",
       "      <th>3</th>\n",
       "      <td>0</td>\n",
       "      <td>118</td>\n",
       "    </tr>\n",
       "    <tr>\n",
       "      <th>4</th>\n",
       "      <td>1</td>\n",
       "      <td>20</td>\n",
       "    </tr>\n",
       "  </tbody>\n",
       "</table>\n",
       "</div>"
      ],
      "text/plain": [
       "   Defect  Hole_Size\n",
       "0       1        217\n",
       "1       2        129\n",
       "2       1         89\n",
       "3       0        118\n",
       "4       1         20"
      ]
     },
     "execution_count": 57,
     "metadata": {},
     "output_type": "execute_result"
    }
   ],
   "source": [
    "#Classification based on Hole type\n",
    "x=dfn.iloc[:,3:5]\n",
    "y=dfn.iloc[:,5]\n",
    "y.head()\n",
    "x_train,x_test,y_train,y_test=train_test_split(x,y,test_size=0.2)\n",
    "x.head()"
   ]
  },
  {
   "cell_type": "code",
   "execution_count": 58,
   "id": "bbbb463d",
   "metadata": {},
   "outputs": [
    {
     "name": "stdout",
     "output_type": "stream",
     "text": [
      "Accuracy 99.48849104859335\n",
      "[[679   4   0]\n",
      " [  0 321   0]\n",
      " [  0   2 167]]\n",
      "              precision    recall  f1-score   support\n",
      "\n",
      "           0       1.00      0.99      1.00       683\n",
      "           1       0.98      1.00      0.99       321\n",
      "           2       1.00      0.99      0.99       169\n",
      "\n",
      "    accuracy                           0.99      1173\n",
      "   macro avg       0.99      0.99      0.99      1173\n",
      "weighted avg       0.99      0.99      0.99      1173\n",
      "\n"
     ]
    },
    {
     "name": "stderr",
     "output_type": "stream",
     "text": [
      "D:\\anaconda\\lib\\site-packages\\sklearn\\svm\\_base.py:255: ConvergenceWarning: Solver terminated early (max_iter=50).  Consider pre-processing your data with StandardScaler or MinMaxScaler.\n",
      "  warnings.warn('Solver terminated early (max_iter=%i).'\n"
     ]
    }
   ],
   "source": [
    "#Classification study of septal hole using SVM\n",
    "svmhole = SVC(max_iter=50)\n",
    "svmhole.fit(x_train,y_train)\n",
    "pred = svmhole.predict(x_test)\n",
    "print(\"Accuracy\",accuracy_score(y_test,pred)*100)\n",
    "print(confusion_matrix(y_test,pred))\n",
    "print(classification_report(y_test,pred))"
   ]
  },
  {
   "cell_type": "code",
   "execution_count": 59,
   "id": "4558bd55",
   "metadata": {},
   "outputs": [
    {
     "name": "stdout",
     "output_type": "stream",
     "text": [
      "Accuracy 80.90366581415175\n",
      "[[683   0   0]\n",
      " [175 141   5]\n",
      " [  1  43 125]]\n",
      "              precision    recall  f1-score   support\n",
      "\n",
      "           0       0.80      1.00      0.89       683\n",
      "           1       0.77      0.44      0.56       321\n",
      "           2       0.96      0.74      0.84       169\n",
      "\n",
      "    accuracy                           0.81      1173\n",
      "   macro avg       0.84      0.73      0.76      1173\n",
      "weighted avg       0.81      0.81      0.79      1173\n",
      "\n"
     ]
    },
    {
     "name": "stderr",
     "output_type": "stream",
     "text": [
      "D:\\anaconda\\lib\\site-packages\\sklearn\\neural_network\\_multilayer_perceptron.py:614: ConvergenceWarning: Stochastic Optimizer: Maximum iterations (5) reached and the optimization hasn't converged yet.\n",
      "  warnings.warn(\n"
     ]
    }
   ],
   "source": [
    "#Classification study of septal hole using MLP Classifier\n",
    "mlphole = MLPClassifier(max_iter=5)\n",
    "mlphole.fit(x_train,y_train)\n",
    "pred = mlphole.predict(x_test)\n",
    "print(\"Accuracy\",accuracy_score(y_test,pred)*100)\n",
    "print(confusion_matrix(y_test,pred))\n",
    "print(classification_report(y_test,pred))"
   ]
  },
  {
   "cell_type": "code",
   "execution_count": 60,
   "id": "58b473e1",
   "metadata": {},
   "outputs": [],
   "source": [
    "#Suggesting suitable operative methods according to hole size and hole type\n",
    "a=dfn.iloc[:,3:5]\n",
    "b=dfn.iloc[:,6]\n",
    "a.head()\n",
    "x_train,x_test,y_train,y_test=train_test_split(a,b,test_size=0.3)"
   ]
  },
  {
   "cell_type": "code",
   "execution_count": 61,
   "id": "866df6cf",
   "metadata": {},
   "outputs": [
    {
     "name": "stdout",
     "output_type": "stream",
     "text": [
      "Accuracy 79.87492893689596\n",
      "[[ 192  207]\n",
      " [ 147 1213]]\n",
      "              precision    recall  f1-score   support\n",
      "\n",
      "           0       0.57      0.48      0.52       399\n",
      "           1       0.85      0.89      0.87      1360\n",
      "\n",
      "    accuracy                           0.80      1759\n",
      "   macro avg       0.71      0.69      0.70      1759\n",
      "weighted avg       0.79      0.80      0.79      1759\n",
      "\n"
     ]
    },
    {
     "name": "stderr",
     "output_type": "stream",
     "text": [
      "D:\\anaconda\\lib\\site-packages\\sklearn\\svm\\_base.py:255: ConvergenceWarning: Solver terminated early (max_iter=50).  Consider pre-processing your data with StandardScaler or MinMaxScaler.\n",
      "  warnings.warn('Solver terminated early (max_iter=%i).'\n"
     ]
    }
   ],
   "source": [
    "#Suggesting curing methods using SVM\n",
    "svmcm = SVC(max_iter=50)\n",
    "svmcm.fit(x_train,y_train)\n",
    "pred = svmcm.predict(x_test)\n",
    "print(\"Accuracy\",accuracy_score(y_test,pred)*100)\n",
    "print(confusion_matrix(y_test,pred))\n",
    "print(classification_report(y_test,pred))"
   ]
  },
  {
   "cell_type": "code",
   "execution_count": 62,
   "id": "905ec488",
   "metadata": {},
   "outputs": [
    {
     "name": "stdout",
     "output_type": "stream",
     "text": [
      "Accuracy 94.31495167708925\n",
      "[[ 299  100]\n",
      " [   0 1360]]\n",
      "              precision    recall  f1-score   support\n",
      "\n",
      "           0       1.00      0.75      0.86       399\n",
      "           1       0.93      1.00      0.96      1360\n",
      "\n",
      "    accuracy                           0.94      1759\n",
      "   macro avg       0.97      0.87      0.91      1759\n",
      "weighted avg       0.95      0.94      0.94      1759\n",
      "\n"
     ]
    },
    {
     "name": "stderr",
     "output_type": "stream",
     "text": [
      "D:\\anaconda\\lib\\site-packages\\sklearn\\neural_network\\_multilayer_perceptron.py:614: ConvergenceWarning: Stochastic Optimizer: Maximum iterations (25) reached and the optimization hasn't converged yet.\n",
      "  warnings.warn(\n"
     ]
    }
   ],
   "source": [
    "#Suggesting curing methods using MLP\n",
    "mlpcm = MLPClassifier(max_iter=25)\n",
    "mlpcm.fit(x_train,y_train)\n",
    "pred = mlpcm.predict(x_test)\n",
    "print(\"Accuracy\",accuracy_score(y_test,pred)*100)\n",
    "print(confusion_matrix(y_test,pred))\n",
    "print(classification_report(y_test,pred))"
   ]
  },
  {
   "cell_type": "code",
   "execution_count": null,
   "id": "d4a7e8ff",
   "metadata": {},
   "outputs": [],
   "source": []
  },
  {
   "cell_type": "code",
   "execution_count": null,
   "id": "a42dbf00",
   "metadata": {},
   "outputs": [],
   "source": []
  },
  {
   "cell_type": "code",
   "execution_count": null,
   "id": "11c506ae",
   "metadata": {},
   "outputs": [],
   "source": []
  }
 ],
 "metadata": {
  "kernelspec": {
   "display_name": "Python 3 (ipykernel)",
   "language": "python",
   "name": "python3"
  },
  "language_info": {
   "codemirror_mode": {
    "name": "ipython",
    "version": 3
   },
   "file_extension": ".py",
   "mimetype": "text/x-python",
   "name": "python",
   "nbconvert_exporter": "python",
   "pygments_lexer": "ipython3",
   "version": "3.9.7"
  }
 },
 "nbformat": 4,
 "nbformat_minor": 5
}
